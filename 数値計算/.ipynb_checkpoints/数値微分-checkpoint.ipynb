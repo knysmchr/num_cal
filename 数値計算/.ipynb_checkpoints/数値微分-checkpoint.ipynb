{
 "cells": [
  {
   "cell_type": "code",
   "execution_count": 1,
   "metadata": {
    "executionInfo": {
     "elapsed": 1130,
     "status": "ok",
     "timestamp": 1627615652177,
     "user": {
      "displayName": "國安倫弘",
      "photoUrl": "",
      "userId": "08836749636877384491"
     },
     "user_tz": -540
    },
    "id": "9eQDcy87cp-l"
   },
   "outputs": [],
   "source": [
    "import numpy as np\n",
    "import sympy as sp\n",
    "import pandas as pd\n",
    "import matplotlib.pyplot as plt\n",
    "%matplotlib inline"
   ]
  },
  {
   "cell_type": "code",
   "execution_count": 2,
   "metadata": {
    "executionInfo": {
     "elapsed": 313,
     "status": "ok",
     "timestamp": 1627615664569,
     "user": {
      "displayName": "國安倫弘",
      "photoUrl": "",
      "userId": "08836749636877384491"
     },
     "user_tz": -540
    },
    "id": "4zgMp8n0c82x"
   },
   "outputs": [],
   "source": [
    "plt.style.use('ggplot')"
   ]
  },
  {
   "cell_type": "code",
   "execution_count": 3,
   "metadata": {
    "executionInfo": {
     "elapsed": 277,
     "status": "ok",
     "timestamp": 1627615714917,
     "user": {
      "displayName": "國安倫弘",
      "photoUrl": "",
      "userId": "08836749636877384491"
     },
     "user_tz": -540
    },
    "id": "e7MeGTrCdBay"
   },
   "outputs": [],
   "source": [
    "def my_func(x):\n",
    "  return x ** 3 + 2 * x **2"
   ]
  },
  {
   "cell_type": "code",
   "execution_count": 4,
   "metadata": {
    "executionInfo": {
     "elapsed": 306,
     "status": "ok",
     "timestamp": 1627615730918,
     "user": {
      "displayName": "國安倫弘",
      "photoUrl": "",
      "userId": "08836749636877384491"
     },
     "user_tz": -540
    },
    "id": "DnHO2T06dNvJ"
   },
   "outputs": [],
   "source": [
    "sp.init_printing()"
   ]
  },
  {
   "cell_type": "code",
   "execution_count": 5,
   "metadata": {
    "executionInfo": {
     "elapsed": 442,
     "status": "ok",
     "timestamp": 1627615750792,
     "user": {
      "displayName": "國安倫弘",
      "photoUrl": "",
      "userId": "08836749636877384491"
     },
     "user_tz": -540
    },
    "id": "4iiGx4LndRnV"
   },
   "outputs": [],
   "source": [
    "x_ = sp.Symbol('x')"
   ]
  },
  {
   "cell_type": "code",
   "execution_count": 6,
   "metadata": {
    "colab": {
     "base_uri": "https://localhost:8080/",
     "height": 38
    },
    "executionInfo": {
     "elapsed": 313,
     "status": "ok",
     "timestamp": 1627615758470,
     "user": {
      "displayName": "國安倫弘",
      "photoUrl": "",
      "userId": "08836749636877384491"
     },
     "user_tz": -540
    },
    "id": "9i6zGzuidWdG",
    "outputId": "6c8bb952-dea2-4507-f54d-60a75e8f2486"
   },
   "outputs": [
    {
     "data": {
      "image/png": "[encoded data removed]",
      "text/latex": [
       "$\\displaystyle x$"
      ],
      "text/plain": [
       "x"
      ]
     },
     "execution_count": 6,
     "metadata": {
      "tags": []
     },
     "output_type": "execute_result"
    }
   ],
   "source": [
    "x_"
   ]
  },
  {
   "cell_type": "code",
   "execution_count": 8,
   "metadata": {
    "executionInfo": {
     "elapsed": 311,
     "status": "ok",
     "timestamp": 1627615800039,
     "user": {
      "displayName": "國安倫弘",
      "photoUrl": "",
      "userId": "08836749636877384491"
     },
     "user_tz": -540
    },
    "id": "12bFERnadYWN"
   },
   "outputs": [],
   "source": [
    "y = x_ ** 3 + 2 * x_ **2"
   ]
  },
  {
   "cell_type": "code",
   "execution_count": 9,
   "metadata": {
    "colab": {
     "base_uri": "https://localhost:8080/",
     "height": 38
    },
    "executionInfo": {
     "elapsed": 313,
     "status": "ok",
     "timestamp": 1627615805981,
     "user": {
      "displayName": "國安倫弘",
      "photoUrl": "",
      "userId": "08836749636877384491"
     },
     "user_tz": -540
    },
    "id": "wyLA6U7udfFz",
    "outputId": "66774ec6-8418-4559-c34b-97b591280b44"
   },
   "outputs": [
    {
     "data": {
      "image/png": "[encoded data removed]",
      "text/latex": [
       "$\\displaystyle x^{3} + 2 x^{2}$"
      ],
      "text/plain": [
       " 3      2\n",
       "x  + 2⋅x "
      ]
     },
     "execution_count": 9,
     "metadata": {
      "tags": []
     },
     "output_type": "execute_result"
    }
   ],
   "source": [
    "y"
   ]
  },
  {
   "cell_type": "code",
   "execution_count": 11,
   "metadata": {
    "colab": {
     "base_uri": "https://localhost:8080/",
     "height": 38
    },
    "executionInfo": {
     "elapsed": 6,
     "status": "ok",
     "timestamp": 1627615830456,
     "user": {
      "displayName": "國安倫弘",
      "photoUrl": "",
      "userId": "08836749636877384491"
     },
     "user_tz": -540
    },
    "id": "kYaw59i-dj8j",
    "outputId": "a091e8b9-ac2c-434e-ac4c-ccb9848dc5a3"
   },
   "outputs": [
    {
     "data": {
      "image/png": "[encoded data removed]",
      "text/latex": [
       "$\\displaystyle 3 x^{2} + 4 x$"
      ],
      "text/plain": [
       "   2      \n",
       "3⋅x  + 4⋅x"
      ]
     },
     "execution_count": 11,
     "metadata": {
      "tags": []
     },
     "output_type": "execute_result"
    }
   ],
   "source": [
    "sp.diff(y,x_)"
   ]
  },
  {
   "cell_type": "code",
   "execution_count": 13,
   "metadata": {
    "colab": {
     "base_uri": "https://localhost:8080/",
     "height": 37
    },
    "executionInfo": {
     "elapsed": 311,
     "status": "ok",
     "timestamp": 1627615884110,
     "user": {
      "displayName": "國安倫弘",
      "photoUrl": "",
      "userId": "08836749636877384491"
     },
     "user_tz": -540
    },
    "id": "YyyRTXetdoK6",
    "outputId": "7053685a-4572-4398-ac23-3ee49d55c17b"
   },
   "outputs": [
    {
     "data": {
      "image/png": "[encoded data removed]",
      "text/latex": [
       "$\\displaystyle 7$"
      ],
      "text/plain": [
       "7"
      ]
     },
     "execution_count": 13,
     "metadata": {
      "tags": []
     },
     "output_type": "execute_result"
    }
   ],
   "source": [
    "sp.diff(y, x_).subs({x_ : 1})"
   ]
  },
  {
   "cell_type": "code",
   "execution_count": 15,
   "metadata": {
    "executionInfo": {
     "elapsed": 309,
     "status": "ok",
     "timestamp": 1627615971147,
     "user": {
      "displayName": "國安倫弘",
      "photoUrl": "",
      "userId": "08836749636877384491"
     },
     "user_tz": -540
    },
    "id": "2vq6hd_Nd1H6"
   },
   "outputs": [],
   "source": [
    "dx = 0.01\n",
    "df_dx_f = (my_func(1.0 + dx) - my_func(1.0)) / dx"
   ]
  },
  {
   "cell_type": "code",
   "execution_count": 16,
   "metadata": {
    "colab": {
     "base_uri": "https://localhost:8080/",
     "height": 37
    },
    "executionInfo": {
     "elapsed": 312,
     "status": "ok",
     "timestamp": 1627615985999,
     "user": {
      "displayName": "國安倫弘",
      "photoUrl": "",
      "userId": "08836749636877384491"
     },
     "user_tz": -540
    },
    "id": "rXN8TRSEeIsx",
    "outputId": "6247019a-8f7f-479b-d1e8-78ff6fd20230"
   },
   "outputs": [
    {
     "data": {
      "image/png": "[encoded data removed]",
      "text/latex": [
       "$\\displaystyle 7.05010000000001$"
      ],
      "text/plain": [
       "7.050100000000015"
      ]
     },
     "execution_count": 16,
     "metadata": {
      "tags": []
     },
     "output_type": "execute_result"
    }
   ],
   "source": [
    "df_dx_f"
   ]
  },
  {
   "cell_type": "code",
   "execution_count": 17,
   "metadata": {
    "executionInfo": {
     "elapsed": 301,
     "status": "ok",
     "timestamp": 1627616033342,
     "user": {
      "displayName": "國安倫弘",
      "photoUrl": "",
      "userId": "08836749636877384491"
     },
     "user_tz": -540
    },
    "id": "bIN4Bc8SeP5l"
   },
   "outputs": [],
   "source": [
    "df_dx_b = (my_func(1.0) - my_func(1.0 - dx)) / dx"
   ]
  },
  {
   "cell_type": "code",
   "execution_count": 18,
   "metadata": {
    "colab": {
     "base_uri": "https://localhost:8080/",
     "height": 37
    },
    "executionInfo": {
     "elapsed": 363,
     "status": "ok",
     "timestamp": 1627616043669,
     "user": {
      "displayName": "國安倫弘",
      "photoUrl": "",
      "userId": "08836749636877384491"
     },
     "user_tz": -540
    },
    "id": "6zxdsBw8eber",
    "outputId": "bf98e03c-f113-4ac1-de52-544987af3c09"
   },
   "outputs": [
    {
     "data": {
      "image/png": "[encoded data removed]",
      "text/latex": [
       "$\\displaystyle 6.95009999999998$"
      ],
      "text/plain": [
       "6.950099999999981"
      ]
     },
     "execution_count": 18,
     "metadata": {
      "tags": []
     },
     "output_type": "execute_result"
    }
   ],
   "source": [
    "df_dx_b"
   ]
  },
  {
   "cell_type": "code",
   "execution_count": 19,
   "metadata": {
    "executionInfo": {
     "elapsed": 365,
     "status": "ok",
     "timestamp": 1627616108974,
     "user": {
      "displayName": "國安倫弘",
      "photoUrl": "",
      "userId": "08836749636877384491"
     },
     "user_tz": -540
    },
    "id": "YxwOX2yced-i"
   },
   "outputs": [],
   "source": [
    "df_dx_c = (my_func(1.0 + dx) - my_func(1.0 - dx)) / (2 * dx)"
   ]
  },
  {
   "cell_type": "code",
   "execution_count": 20,
   "metadata": {
    "colab": {
     "base_uri": "https://localhost:8080/",
     "height": 37
    },
    "executionInfo": {
     "elapsed": 365,
     "status": "ok",
     "timestamp": 1627616115764,
     "user": {
      "displayName": "國安倫弘",
      "photoUrl": "",
      "userId": "08836749636877384491"
     },
     "user_tz": -540
    },
    "id": "G_SW4KRtet7X",
    "outputId": "a5aa8a87-a981-429a-fef0-e47f3c695ec2"
   },
   "outputs": [
    {
     "data": {
      "image/png": "[encoded data removed]",
      "text/latex": [
       "$\\displaystyle 7.0001$"
      ],
      "text/plain": [
       "7.000099999999998"
      ]
     },
     "execution_count": 20,
     "metadata": {
      "tags": []
     },
     "output_type": "execute_result"
    }
   ],
   "source": [
    "df_dx_c"
   ]
  },
  {
   "cell_type": "code",
   "execution_count": 21,
   "metadata": {
    "executionInfo": {
     "elapsed": 309,
     "status": "ok",
     "timestamp": 1627616255710,
     "user": {
      "displayName": "國安倫弘",
      "photoUrl": "",
      "userId": "08836749636877384491"
     },
     "user_tz": -540
    },
    "id": "B__alD2hevk9"
   },
   "outputs": [],
   "source": [
    "df_dx_f2 = (-3 * my_func(1.0) + 4.0 * my_func(1.0 + dx) - my_func(1.0 + 2 * dx)) / (2 * dx)"
   ]
  },
  {
   "cell_type": "code",
   "execution_count": 22,
   "metadata": {
    "colab": {
     "base_uri": "https://localhost:8080/",
     "height": 37
    },
    "executionInfo": {
     "elapsed": 363,
     "status": "ok",
     "timestamp": 1627616264674,
     "user": {
      "displayName": "國安倫弘",
      "photoUrl": "",
      "userId": "08836749636877384491"
     },
     "user_tz": -540
    },
    "id": "9uIsZYJJfRpy",
    "outputId": "3546d4d2-136a-4a18-a228-bb219bf5f8f2"
   },
   "outputs": [
    {
     "data": {
      "image/png": "[encoded data removed]",
      "text/latex": [
       "$\\displaystyle 6.99980000000002$"
      ],
      "text/plain": [
       "6.999800000000023"
      ]
     },
     "execution_count": 22,
     "metadata": {
      "tags": []
     },
     "output_type": "execute_result"
    }
   ],
   "source": [
    "df_dx_f2"
   ]
  },
  {
   "cell_type": "code",
   "execution_count": 25,
   "metadata": {
    "executionInfo": {
     "elapsed": 226,
     "status": "ok",
     "timestamp": 1627616354952,
     "user": {
      "displayName": "國安倫弘",
      "photoUrl": "",
      "userId": "08836749636877384491"
     },
     "user_tz": -540
    },
    "id": "josr_F10fT7e"
   },
   "outputs": [],
   "source": [
    "df_fx_b2 = (3 * my_func(1.0) - 4.0 * my_func(1.0 - dx) + my_func(1.0 - 2 * dx)) / (2 * dx)"
   ]
  },
  {
   "cell_type": "code",
   "execution_count": 26,
   "metadata": {
    "colab": {
     "base_uri": "https://localhost:8080/",
     "height": 37
    },
    "executionInfo": {
     "elapsed": 6,
     "status": "ok",
     "timestamp": 1627616355860,
     "user": {
      "displayName": "國安倫弘",
      "photoUrl": "",
      "userId": "08836749636877384491"
     },
     "user_tz": -540
    },
    "id": "J-Ad_Laafhfl",
    "outputId": "f39c1980-0934-46d0-da9f-a120fe6e24fe"
   },
   "outputs": [
    {
     "data": {
      "image/png": "[encoded data removed]",
      "text/latex": [
       "$\\displaystyle 6.99979999999996$"
      ],
      "text/plain": [
       "6.999799999999956"
      ]
     },
     "execution_count": 26,
     "metadata": {
      "tags": []
     },
     "output_type": "execute_result"
    }
   ],
   "source": [
    "df_fx_b2"
   ]
  },
  {
   "cell_type": "code",
   "execution_count": 31,
   "metadata": {
    "executionInfo": {
     "elapsed": 310,
     "status": "ok",
     "timestamp": 1627616978742,
     "user": {
      "displayName": "國安倫弘",
      "photoUrl": "",
      "userId": "08836749636877384491"
     },
     "user_tz": -540
    },
    "id": "ELpQmZVwfjim"
   },
   "outputs": [],
   "source": [
    "def check_err():\n",
    "  df = pd.DataFrame()\n",
    "  dx_list = np.linspace(0.0001, 1.0, 10)\n",
    "  for dx in dx_list:\n",
    "    err_f = (my_func(1.0 + dx) - my_func(1.0)) / dx - 7.0\n",
    "    err_b = (my_func(1.0) - my_func(1.0 - dx)) / dx - 7.0\n",
    "    err_c = (my_func(1.0 + dx) - my_func(1.0 - dx)) / (2 * dx) - 7.0\n",
    "    err_f2 = (-3 * my_func(1.0) + 4.0 * my_func(1.0 + dx) - my_func(1.0 + 2 * dx)) / (2 * dx) - 7.0\n",
    "    err_b2 = (3 * my_func(1.0) - 4.0 * my_func(1.0 - dx) + my_func(1.0 - 2 * dx)) / (2 * dx) - 7.0\n",
    "    df.loc[dx, 'forward'] = err_f\n",
    "    df.loc[dx, 'backward'] = err_b\n",
    "    df.loc[dx, 'central'] = err_c\n",
    "    df.loc[dx, 'forward2'] = err_f2\n",
    "    df.loc[dx, 'backward2'] = err_b2\n",
    "  return df\n"
   ]
  },
  {
   "cell_type": "code",
   "execution_count": 32,
   "metadata": {
    "executionInfo": {
     "elapsed": 2,
     "status": "ok",
     "timestamp": 1627616980075,
     "user": {
      "displayName": "國安倫弘",
      "photoUrl": "",
      "userId": "08836749636877384491"
     },
     "user_tz": -540
    },
    "id": "cxZFvHh7hdog"
   },
   "outputs": [],
   "source": [
    "err_df = check_err()"
   ]
  },
  {
   "cell_type": "code",
   "execution_count": 33,
   "metadata": {
    "colab": {
     "base_uri": "https://localhost:8080/",
     "height": 359
    },
    "executionInfo": {
     "elapsed": 6,
     "status": "ok",
     "timestamp": 1627616981078,
     "user": {
      "displayName": "國安倫弘",
      "photoUrl": "",
      "userId": "08836749636877384491"
     },
     "user_tz": -540
    },
    "id": "elNxyAoHhhR_",
    "outputId": "681fa45c-6c9b-41ad-d041-89bb1cc0cfbe"
   },
   "outputs": [
    {
     "data": {
      "text/html": [
       "<div>\n",
       "<style scoped>\n",
       "    .dataframe tbody tr th:only-of-type {\n",
       "        vertical-align: middle;\n",
       "    }\n",
       "\n",
       "    .dataframe tbody tr th {\n",
       "        vertical-align: top;\n",
       "    }\n",
       "\n",
       "    .dataframe thead th {\n",
       "        text-align: right;\n",
       "    }\n",
       "</style>\n",
       "<table border=\"1\" class=\"dataframe\">\n",
       "  <thead>\n",
       "    <tr style=\"text-align: right;\">\n",
       "      <th></th>\n",
       "      <th>forward</th>\n",
       "      <th>backward</th>\n",
       "      <th>central</th>\n",
       "      <th>forward2</th>\n",
       "      <th>backward2</th>\n",
       "    </tr>\n",
       "  </thead>\n",
       "  <tbody>\n",
       "    <tr>\n",
       "      <th>0.0001</th>\n",
       "      <td>0.000500</td>\n",
       "      <td>-0.000500</td>\n",
       "      <td>9.997898e-09</td>\n",
       "      <td>-2.000033e-08</td>\n",
       "      <td>-2.000699e-08</td>\n",
       "    </tr>\n",
       "    <tr>\n",
       "      <th>0.1112</th>\n",
       "      <td>0.568365</td>\n",
       "      <td>-0.543635</td>\n",
       "      <td>1.236544e-02</td>\n",
       "      <td>-2.473088e-02</td>\n",
       "      <td>-2.473088e-02</td>\n",
       "    </tr>\n",
       "    <tr>\n",
       "      <th>0.2223</th>\n",
       "      <td>1.160917</td>\n",
       "      <td>-1.062083</td>\n",
       "      <td>4.941729e-02</td>\n",
       "      <td>-9.883458e-02</td>\n",
       "      <td>-9.883458e-02</td>\n",
       "    </tr>\n",
       "    <tr>\n",
       "      <th>0.3334</th>\n",
       "      <td>1.778156</td>\n",
       "      <td>-1.555844</td>\n",
       "      <td>1.111556e-01</td>\n",
       "      <td>-2.223111e-01</td>\n",
       "      <td>-2.223111e-01</td>\n",
       "    </tr>\n",
       "    <tr>\n",
       "      <th>0.4445</th>\n",
       "      <td>2.420080</td>\n",
       "      <td>-2.024920</td>\n",
       "      <td>1.975803e-01</td>\n",
       "      <td>-3.951605e-01</td>\n",
       "      <td>-3.951605e-01</td>\n",
       "    </tr>\n",
       "    <tr>\n",
       "      <th>0.5556</th>\n",
       "      <td>3.086691</td>\n",
       "      <td>-2.469309</td>\n",
       "      <td>3.086914e-01</td>\n",
       "      <td>-6.173827e-01</td>\n",
       "      <td>-6.173827e-01</td>\n",
       "    </tr>\n",
       "    <tr>\n",
       "      <th>0.6667</th>\n",
       "      <td>3.777989</td>\n",
       "      <td>-2.889011</td>\n",
       "      <td>4.444889e-01</td>\n",
       "      <td>-8.889778e-01</td>\n",
       "      <td>-8.889778e-01</td>\n",
       "    </tr>\n",
       "    <tr>\n",
       "      <th>0.7778</th>\n",
       "      <td>4.493973</td>\n",
       "      <td>-3.284027</td>\n",
       "      <td>6.049728e-01</td>\n",
       "      <td>-1.209946e+00</td>\n",
       "      <td>-1.209946e+00</td>\n",
       "    </tr>\n",
       "    <tr>\n",
       "      <th>0.8889</th>\n",
       "      <td>5.234643</td>\n",
       "      <td>-3.654357</td>\n",
       "      <td>7.901432e-01</td>\n",
       "      <td>-1.580286e+00</td>\n",
       "      <td>-1.580286e+00</td>\n",
       "    </tr>\n",
       "    <tr>\n",
       "      <th>1.0000</th>\n",
       "      <td>6.000000</td>\n",
       "      <td>-4.000000</td>\n",
       "      <td>1.000000e+00</td>\n",
       "      <td>-2.000000e+00</td>\n",
       "      <td>-2.000000e+00</td>\n",
       "    </tr>\n",
       "  </tbody>\n",
       "</table>\n",
       "</div>"
      ],
      "text/plain": [
       "         forward  backward       central      forward2     backward2\n",
       "0.0001  0.000500 -0.000500  9.997898e-09 -2.000033e-08 -2.000699e-08\n",
       "0.1112  0.568365 -0.543635  1.236544e-02 -2.473088e-02 -2.473088e-02\n",
       "0.2223  1.160917 -1.062083  4.941729e-02 -9.883458e-02 -9.883458e-02\n",
       "0.3334  1.778156 -1.555844  1.111556e-01 -2.223111e-01 -2.223111e-01\n",
       "0.4445  2.420080 -2.024920  1.975803e-01 -3.951605e-01 -3.951605e-01\n",
       "0.5556  3.086691 -2.469309  3.086914e-01 -6.173827e-01 -6.173827e-01\n",
       "0.6667  3.777989 -2.889011  4.444889e-01 -8.889778e-01 -8.889778e-01\n",
       "0.7778  4.493973 -3.284027  6.049728e-01 -1.209946e+00 -1.209946e+00\n",
       "0.8889  5.234643 -3.654357  7.901432e-01 -1.580286e+00 -1.580286e+00\n",
       "1.0000  6.000000 -4.000000  1.000000e+00 -2.000000e+00 -2.000000e+00"
      ]
     },
     "execution_count": 33,
     "metadata": {
      "tags": []
     },
     "output_type": "execute_result"
    }
   ],
   "source": [
    "err_df"
   ]
  },
  {
   "cell_type": "code",
   "execution_count": 34,
   "metadata": {
    "colab": {
     "base_uri": "https://localhost:8080/",
     "height": 282
    },
    "executionInfo": {
     "elapsed": 635,
     "status": "ok",
     "timestamp": 1627616983464,
     "user": {
      "displayName": "國安倫弘",
      "photoUrl": "",
      "userId": "08836749636877384491"
     },
     "user_tz": -540
    },
    "id": "3hgfbIiihiwp",
    "outputId": "9c0d5100-8eab-4e63-95a0-241b56157a4c"
   },
   "outputs": [
    {
     "data": {
      "text/plain": [
       "<matplotlib.axes._subplots.AxesSubplot at 0x7f19ffb1cfd0>"
      ]
     },
     "execution_count": 34,
     "metadata": {
      "tags": []
     },
     "output_type": "execute_result"
    },
    {
     "data": {
      "image/png": "[encoded data removed]",
      "text/plain": [
       "<Figure size 432x288 with 1 Axes>"
      ]
     },
     "metadata": {
      "tags": []
     },
     "output_type": "display_data"
    }
   ],
   "source": [
    "err_df.plot()"
   ]
  },
  {
   "cell_type": "code",
   "execution_count": null,
   "metadata": {
    "id": "JLp_aMUYhsli"
   },
   "outputs": [],
   "source": [
    ""
   ]
  }
 ],
 "metadata": {
  "colab": {
   "authorship_tag": "ABX9TyOH2vV70TEXkabzuZ7D+d0R",
   "name": "数値微分.ipynb",
   "provenance": []
  },
  "kernelspec": {
   "display_name": "Python 3",
   "name": "python3"
  },
  "language_info": {
   "name": "python"
  }
 },
 "nbformat": 4,
 "nbformat_minor": 0
}
