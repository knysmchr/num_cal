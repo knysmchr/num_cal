{
 "cells": [
  {
   "cell_type": "code",
   "execution_count": 1,
   "metadata": {
    "executionInfo": {
     "elapsed": 1524,
     "status": "ok",
     "timestamp": 1627627022777,
     "user": {
      "displayName": "國安倫弘",
      "photoUrl": "",
      "userId": "08836749636877384491"
     },
     "user_tz": -540
    },
    "id": "0Ru1qjf4jERm"
   },
   "outputs": [],
   "source": [
    "import numpy as np\n",
    "import sympy as sp"
   ]
  },
  {
   "cell_type": "code",
   "execution_count": 2,
   "metadata": {
    "executionInfo": {
     "elapsed": 413,
     "status": "ok",
     "timestamp": 1627627026769,
     "user": {
      "displayName": "國安倫弘",
      "photoUrl": "",
      "userId": "08836749636877384491"
     },
     "user_tz": -540
    },
    "id": "366UVik1IUnW"
   },
   "outputs": [],
   "source": [
    "sp.init_printing()"
   ]
  },
  {
   "cell_type": "code",
   "execution_count": 3,
   "metadata": {
    "executionInfo": {
     "elapsed": 382,
     "status": "ok",
     "timestamp": 1627627042098,
     "user": {
      "displayName": "國安倫弘",
      "photoUrl": "",
      "userId": "08836749636877384491"
     },
     "user_tz": -540
    },
    "id": "bXZZybJrIXWW"
   },
   "outputs": [],
   "source": [
    "x = sp.Symbol('x')"
   ]
  },
  {
   "cell_type": "code",
   "execution_count": 4,
   "metadata": {
    "colab": {
     "base_uri": "https://localhost:8080/",
     "height": 38
    },
    "executionInfo": {
     "elapsed": 314,
     "status": "ok",
     "timestamp": 1627627070806,
     "user": {
      "displayName": "國安倫弘",
      "photoUrl": "",
      "userId": "08836749636877384491"
     },
     "user_tz": -540
    },
    "id": "zW8M1NdYIbHn",
    "outputId": "8cbdda97-bfbc-4df5-9953-ffc7f138e8a8"
   },
   "outputs": [
    {
     "data": {
      "image/png": "[encoded data removed]",
      "text/latex": [
       "$\\displaystyle x^{2} - 2 = 0$"
      ],
      "text/plain": [
       " 2        \n",
       "x  - 2 = 0"
      ]
     },
     "execution_count": 4,
     "metadata": {
      "tags": []
     },
     "output_type": "execute_result"
    }
   ],
   "source": [
    "sp.Eq(x ** 2 -2, 0)"
   ]
  },
  {
   "cell_type": "code",
   "execution_count": 5,
   "metadata": {
    "colab": {
     "base_uri": "https://localhost:8080/",
     "height": 47
    },
    "executionInfo": {
     "elapsed": 325,
     "status": "ok",
     "timestamp": 1627627094164,
     "user": {
      "displayName": "國安倫弘",
      "photoUrl": "",
      "userId": "08836749636877384491"
     },
     "user_tz": -540
    },
    "id": "Cua42sO7IiIn",
    "outputId": "2d8d71b5-3caa-4fdc-88a3-d59f624dd839"
   },
   "outputs": [
    {
     "data": {
      "image/png": "[encoded data removed]",
      "text/latex": [
       "$\\displaystyle \\left[ - \\sqrt{2}, \\  \\sqrt{2}\\right]$"
      ],
      "text/plain": [
       "[-√2, √2]"
      ]
     },
     "execution_count": 5,
     "metadata": {
      "tags": []
     },
     "output_type": "execute_result"
    }
   ],
   "source": [
    "sp.solve(x ** 2 -2)"
   ]
  },
  {
   "cell_type": "code",
   "execution_count": 6,
   "metadata": {
    "colab": {
     "base_uri": "https://localhost:8080/",
     "height": 38
    },
    "executionInfo": {
     "elapsed": 315,
     "status": "ok",
     "timestamp": 1627627113411,
     "user": {
      "displayName": "國安倫弘",
      "photoUrl": "",
      "userId": "08836749636877384491"
     },
     "user_tz": -540
    },
    "id": "yCn-oy5ZIn2C",
    "outputId": "ac0047ef-7d48-420c-b45b-90b697860959"
   },
   "outputs": [
    {
     "data": {
      "image/png": "[encoded data removed]",
      "text/latex": [
       "$\\displaystyle 2 x$"
      ],
      "text/plain": [
       "2⋅x"
      ]
     },
     "execution_count": 6,
     "metadata": {
      "tags": []
     },
     "output_type": "execute_result"
    }
   ],
   "source": [
    "sp.diff(x ** 2 - 2, x)"
   ]
  },
  {
   "cell_type": "code",
   "execution_count": 10,
   "metadata": {
    "executionInfo": {
     "elapsed": 429,
     "status": "ok",
     "timestamp": 1627627553725,
     "user": {
      "displayName": "國安倫弘",
      "photoUrl": "",
      "userId": "08836749636877384491"
     },
     "user_tz": -540
    },
    "id": "oYB33cGSIsfT"
   },
   "outputs": [],
   "source": [
    "def newton_method(x_ini, eps, max_iters=500):\n",
    "  x, x_old = x_ini, x_ini\n",
    "  iter_no, err = 0, 1\n",
    "  while (err > eps):\n",
    "    if x == 0:\n",
    "      print('zero division err')\n",
    "      break\n",
    "    else:\n",
    "      x = x - (x ** 2 - 2) / (2 * x)\n",
    "    err = np.abs(x - x_old)\n",
    "    print('iter: {:3d}, x: {:4f}, err: {:4f}'.format(iter_no, x, err))\n",
    "    x_old = x\n",
    "    iter_no += 1\n",
    "    if iter_no >= max_iters:\n",
    "      break\n",
    "  return x\n"
   ]
  },
  {
   "cell_type": "code",
   "execution_count": 11,
   "metadata": {
    "colab": {
     "base_uri": "https://localhost:8080/",
     "height": 105
    },
    "executionInfo": {
     "elapsed": 6,
     "status": "ok",
     "timestamp": 1627627554674,
     "user": {
      "displayName": "國安倫弘",
      "photoUrl": "",
      "userId": "08836749636877384491"
     },
     "user_tz": -540
    },
    "id": "7g7WgcB2I1lW",
    "outputId": "9bd967d0-96b2-4265-8193-41c398ea82e4"
   },
   "outputs": [
    {
     "name": "stdout",
     "output_type": "stream",
     "text": [
      "iter:   0, x: 1.500000, err: 0.500000\n",
      "iter:   1, x: 1.416667, err: 0.083333\n",
      "iter:   2, x: 1.414216, err: 0.002451\n",
      "iter:   3, x: 1.414214, err: 0.000002\n"
     ]
    },
    {
     "data": {
      "image/png": "[encoded data removed]",
      "text/latex": [
       "$\\displaystyle 1.41421356237469$"
      ],
      "text/plain": [
       "1.4142135623746899"
      ]
     },
     "execution_count": 11,
     "metadata": {
      "tags": []
     },
     "output_type": "execute_result"
    }
   ],
   "source": [
    "newton_method(1.0, eps=1e-4)"
   ]
  },
  {
   "cell_type": "code",
   "execution_count": 12,
   "metadata": {
    "colab": {
     "base_uri": "https://localhost:8080/",
     "height": 37
    },
    "executionInfo": {
     "elapsed": 415,
     "status": "ok",
     "timestamp": 1627627587929,
     "user": {
      "displayName": "國安倫弘",
      "photoUrl": "",
      "userId": "08836749636877384491"
     },
     "user_tz": -540
    },
    "id": "nrZc3DhaKUrp",
    "outputId": "17a33d4b-34e3-4b32-a04e-ac1a8ad437ec"
   },
   "outputs": [
    {
     "data": {
      "image/png": "[encoded data removed]",
      "text/latex": [
       "$\\displaystyle 1.5949463971765 \\cdot 10^{-12}$"
      ],
      "text/plain": [
       "1.5949463971764999e-12"
      ]
     },
     "execution_count": 12,
     "metadata": {
      "tags": []
     },
     "output_type": "execute_result"
    }
   ],
   "source": [
    "1.41421356237469 - np.sqrt(2)"
   ]
  },
  {
   "cell_type": "code",
   "execution_count": null,
   "metadata": {
    "id": "yqX2xJCAKgXS"
   },
   "outputs": [],
   "source": [
    ""
   ]
  }
 ],
 "metadata": {
  "colab": {
   "authorship_tag": "ABX9TyOYJDD0+78l83x5NWj1YxQS",
   "name": "Newton法.ipynb",
   "provenance": []
  },
  "kernelspec": {
   "display_name": "Python 3",
   "name": "python3"
  },
  "language_info": {
   "name": "python"
  }
 },
 "nbformat": 4,
 "nbformat_minor": 0
}
