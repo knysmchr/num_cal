{
 "cells": [
  {
   "cell_type": "code",
   "execution_count": 1,
   "metadata": {
    "executionInfo": {
     "elapsed": 6,
     "status": "ok",
     "timestamp": 1627628872568,
     "user": {
      "displayName": "國安倫弘",
      "photoUrl": "",
      "userId": "08836749636877384491"
     },
     "user_tz": -540
    },
    "id": "WV0ycBLYPJvD"
   },
   "outputs": [],
   "source": [
    "import numpy as np\n",
    "import matplotlib.pyplot as plt\n",
    "%matplotlib inline\n",
    "plt.style.use('ggplot')"
   ]
  },
  {
   "cell_type": "code",
   "execution_count": 5,
   "metadata": {
    "executionInfo": {
     "elapsed": 313,
     "status": "ok",
     "timestamp": 1627628957839,
     "user": {
      "displayName": "國安倫弘",
      "photoUrl": "",
      "userId": "08836749636877384491"
     },
     "user_tz": -540
    },
    "id": "p4i6jox6PYu9"
   },
   "outputs": [],
   "source": [
    "x = np.random.rand(100)\n",
    "y = np.random.rand(100)"
   ]
  },
  {
   "cell_type": "code",
   "execution_count": 6,
   "metadata": {
    "colab": {
     "base_uri": "https://localhost:8080/",
     "height": 282
    },
    "executionInfo": {
     "elapsed": 316,
     "status": "ok",
     "timestamp": 1627628958917,
     "user": {
      "displayName": "國安倫弘",
      "photoUrl": "",
      "userId": "08836749636877384491"
     },
     "user_tz": -540
    },
    "id": "Zb6MPsS1PflO",
    "outputId": "fe89f7fe-b566-4e98-eab0-ce2abf76bd8f"
   },
   "outputs": [
    {
     "data": {
      "text/plain": [
       "<matplotlib.collections.PathCollection at 0x7fb29ff29350>"
      ]
     },
     "execution_count": 6,
     "metadata": {
      "tags": []
     },
     "output_type": "execute_result"
    },
    {
     "data": {
      "image/png": "[encoded data removed]",
      "text/plain": [
       "<Figure size 432x288 with 1 Axes>"
      ]
     },
     "metadata": {
      "needs_background": "light",
      "tags": []
     },
     "output_type": "display_data"
    }
   ],
   "source": [
    "plt.scatter(x, y)"
   ]
  },
  {
   "cell_type": "code",
   "execution_count": 8,
   "metadata": {
    "executionInfo": {
     "elapsed": 309,
     "status": "ok",
     "timestamp": 1627629204721,
     "user": {
      "displayName": "國安倫弘",
      "photoUrl": "",
      "userId": "08836749636877384491"
     },
     "user_tz": -540
    },
    "id": "zUMGGMhyPnKa"
   },
   "outputs": [],
   "source": [
    "class MyRand(object):\n",
    "  def __init__(self, seed):\n",
    "    self.A = 48271\n",
    "    self.M = 2 ** 31 -1\n",
    "    self.seed = seed\n",
    "\n",
    "  def rand(self, n):\n",
    "    random_list = []\n",
    "    for i in range(n):\n",
    "      self.seed = (self.A * self.seed + 1) % self.M\n",
    "      random_list.append(self.seed / self.M)\n",
    "    return np.array(random_list)"
   ]
  },
  {
   "cell_type": "code",
   "execution_count": 10,
   "metadata": {
    "executionInfo": {
     "elapsed": 269,
     "status": "ok",
     "timestamp": 1627629240152,
     "user": {
      "displayName": "國安倫弘",
      "photoUrl": "",
      "userId": "08836749636877384491"
     },
     "user_tz": -540
    },
    "id": "Au22V-0nQorW"
   },
   "outputs": [],
   "source": [
    "my_rand = MyRand(seed=123)"
   ]
  },
  {
   "cell_type": "code",
   "execution_count": 11,
   "metadata": {
    "executionInfo": {
     "elapsed": 281,
     "status": "ok",
     "timestamp": 1627629274968,
     "user": {
      "displayName": "國安倫弘",
      "photoUrl": "",
      "userId": "08836749636877384491"
     },
     "user_tz": -540
    },
    "id": "sAGUFd8LQyTj"
   },
   "outputs": [],
   "source": [
    "x = my_rand.rand(n=100)\n",
    "y = my_rand.rand(n=100)"
   ]
  },
  {
   "cell_type": "code",
   "execution_count": 12,
   "metadata": {
    "colab": {
     "base_uri": "https://localhost:8080/",
     "height": 282
    },
    "executionInfo": {
     "elapsed": 694,
     "status": "ok",
     "timestamp": 1627629297981,
     "user": {
      "displayName": "國安倫弘",
      "photoUrl": "",
      "userId": "08836749636877384491"
     },
     "user_tz": -540
    },
    "id": "pF64XKwQQ8Jq",
    "outputId": "dc600241-dc82-4b0b-c0cd-b477d57c8cba"
   },
   "outputs": [
    {
     "data": {
      "text/plain": [
       "<matplotlib.collections.PathCollection at 0x7fb29f8b96d0>"
      ]
     },
     "execution_count": 12,
     "metadata": {
      "tags": []
     },
     "output_type": "execute_result"
    },
    {
     "data": {
      "image/png": "[encoded data removed]",
      "text/plain": [
       "<Figure size 432x288 with 1 Axes>"
      ]
     },
     "metadata": {
      "needs_background": "light",
      "tags": []
     },
     "output_type": "display_data"
    }
   ],
   "source": [
    "plt.scatter(x, y)"
   ]
  },
  {
   "cell_type": "code",
   "execution_count": null,
   "metadata": {
    "id": "t3X0kVAlRByH"
   },
   "outputs": [],
   "source": [
    ""
   ]
  }
 ],
 "metadata": {
  "colab": {
   "authorship_tag": "ABX9TyOhbTbmfP326q3lU2CfNGzx",
   "name": "疑似乱数.ipynb",
   "provenance": []
  },
  "kernelspec": {
   "display_name": "Python 3",
   "name": "python3"
  },
  "language_info": {
   "name": "python"
  }
 },
 "nbformat": 4,
 "nbformat_minor": 0
}
