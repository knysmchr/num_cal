{
 "cells": [
  {
   "cell_type": "code",
   "execution_count": 1,
   "metadata": {
    "executionInfo": {
     "elapsed": 3,
     "status": "ok",
     "timestamp": 1627632194954,
     "user": {
      "displayName": "國安倫弘",
      "photoUrl": "",
      "userId": "08836749636877384491"
     },
     "user_tz": -540
    },
    "id": "6FaYbwyeb1im"
   },
   "outputs": [],
   "source": [
    "import numpy as np\n",
    "import matplotlib.pyplot as plt\n",
    "%matplotlib inline"
   ]
  },
  {
   "cell_type": "code",
   "execution_count": 2,
   "metadata": {
    "executionInfo": {
     "elapsed": 476,
     "status": "ok",
     "timestamp": 1627632198196,
     "user": {
      "displayName": "國安倫弘",
      "photoUrl": "",
      "userId": "08836749636877384491"
     },
     "user_tz": -540
    },
    "id": "d5aXR6zBcCAM"
   },
   "outputs": [],
   "source": [
    "plt.style.use('ggplot')"
   ]
  },
  {
   "cell_type": "code",
   "execution_count": 11,
   "metadata": {
    "executionInfo": {
     "elapsed": 399,
     "status": "ok",
     "timestamp": 1627633902444,
     "user": {
      "displayName": "國安倫弘",
      "photoUrl": "",
      "userId": "08836749636877384491"
     },
     "user_tz": -540
    },
    "id": "yWUdE3qlcFkh"
   },
   "outputs": [],
   "source": [
    "class PlanetMotion(object):\n",
    "  def __init__(self):\n",
    "    self.small_m = 1.0\n",
    "    self.large_m = 1.0\n",
    "    self.g_const = 1.0\n",
    "    self.x = 1.0\n",
    "    self.y = 0.0\n",
    "    self.vx = 0.0\n",
    "    self.vy = 1.0\n",
    "    self.x_list = []\n",
    "    self.y_list = []\n",
    "\n",
    "  def eval_force(self, x, y):\n",
    "    distance = (x ** 2 + y ** 2) ** 0.5\n",
    "    fx = -(self.large_m * self.small_m * self.g_const / distance **3) * x\n",
    "    fy = -(self.large_m * self.small_m * self.g_const / distance **3) * y\n",
    "    return fx, fy\n",
    "\n",
    "  def euler_dynamics(self, dt):\n",
    "    fx, fy = self.eval_force(self.x, self.y)\n",
    "    self.x_list.append(self.x)\n",
    "    self.y_list.append(self.y)\n",
    "    # \n",
    "    # update position\n",
    "    # \n",
    "    self.x += self.vx * dt\n",
    "    self.y += self.vy * dt\n",
    "    # \n",
    "    # update velocity\n",
    "    # \n",
    "    self.vx += fx / self.small_m * dt\n",
    "    self.vy += fy / self.small_m * dt\n",
    "\n",
    "  def leap_frog_dynamics(self, dt):\n",
    "    fx, fy = self.eval_force(self.x, self.y)\n",
    "    self.x_list.append(self.x)\n",
    "    self.y_list.append(self.y)\n",
    "    # update velocity\n",
    "    self.vx += fx / self.small_m * 0.5 * dt\n",
    "    self.vy += fy / self.small_m * 0.5 * dt\n",
    "    # update position\n",
    "    self.x += self.vx * dt\n",
    "    self.y += self.vy * dt\n",
    "    # update velocity\n",
    "    fx, fy = self.eval_force(self.x, self.y)\n",
    "    self.vx += fx / self.small_m * 0.5 * dt\n",
    "    self.vy += fy / self.small_m * 0.5 * dt\n",
    "\n",
    "  def runge_kutta_dynamics(self, dt):\n",
    "    self.x_list.append(self.x)\n",
    "    self.y_list.append(self.y)\n",
    "    k1vx, k1vy = self.eval_force(self.x, self.y)\n",
    "    k1vx = k1vx / self.small_m * dt\n",
    "    k1vy = k1vy / self.small_m * dt\n",
    "    k1x = self.vx * dt\n",
    "    k1y = self.vy * dt\n",
    "\n",
    "    k2vx, k2vy = self.eval_force(self.x + 0.5 * k1x, self.y + 0.5 * k1y)\n",
    "    k2vx = k2vx / self.small_m * dt\n",
    "    k2vy = k2vy / self.small_m * dt\n",
    "    k2x = (self.vx + 0.5 * k1vx) * dt\n",
    "    k2y = (self.vy + 0.5 * k1vy) * dt\n",
    "    \n",
    "    k3vx, k3vy = self.eval_force(self.x + 0.5 * k2x, self.y + 0.5 * k2y)\n",
    "    k3vx = k3vx / self.small_m * dt\n",
    "    k3vy = k3vy / self.small_m * dt\n",
    "    k3x = (self.vx + 0.5 * k2vx) * dt\n",
    "    k3y = (self.vy + 0.5 * k2vy) * dt\n",
    "\n",
    "    k4vx, k4vy = self.eval_force(self.x + k3x, self.y + k3y)\n",
    "    k4vx = k4vx / self.small_m * dt\n",
    "    k4vy = k4vy / self.small_m * dt\n",
    "    k4x = (self.vx + k3vx) * dt\n",
    "    k4y = (self.vy + k3vy) * dt\n",
    "\n",
    "    self.vx += (k1vx + 2 * k2vx + 2 * k3vx + k4vx) / 6.0\n",
    "    self.vy += (k1vy + 2 * k2vy + 2 * k3vy + k4vy) / 6.0\n",
    "    self.x += (k1x + 2 * k2x + 2 * k3x + k4x) / 6.0\n",
    "    self.y += (k1y + 2 * k2y + 2 * k3y + k4y) / 6.0\n",
    "\n",
    "  def plot_curvature(self):\n",
    "    x_arr = np.array(self.x_list)\n",
    "    y_arr = np.array(self.y_list)\n",
    "    time_arr = np.arange(len(self.x_list))\n",
    "    plt.scatter(x_arr, y_arr, c=time_arr, cmap='autumn')\n",
    "    plt.colorbar()"
   ]
  },
  {
   "cell_type": "code",
   "execution_count": 12,
   "metadata": {
    "colab": {
     "base_uri": "https://localhost:8080/",
     "height": 265
    },
    "executionInfo": {
     "elapsed": 507,
     "status": "ok",
     "timestamp": 1627633903473,
     "user": {
      "displayName": "國安倫弘",
      "photoUrl": "",
      "userId": "08836749636877384491"
     },
     "user_tz": -540
    },
    "id": "bhNhPmeMhgn-",
    "outputId": "cc0e7744-d197-4da9-e722-07737dad9f8b"
   },
   "outputs": [
    {
     "data": {
      "image/png": "[encoded data removed]",
      "text/plain": [
       "<Figure size 432x288 with 2 Axes>"
      ]
     },
     "metadata": {
      "tags": []
     },
     "output_type": "display_data"
    }
   ],
   "source": [
    "system = PlanetMotion()\n",
    "num_time_steps = 1000\n",
    "dt = 0.05\n",
    "for i in range(num_time_steps):\n",
    "  # system.euler_dynamics(dt)\n",
    "  # system.leap_frog_dynamics(dt)\n",
    "  system.runge_kutta_dynamics(dt)\n",
    "system.plot_curvature()"
   ]
  },
  {
   "cell_type": "code",
   "execution_count": null,
   "metadata": {
    "id": "faUgB6ASiAXA"
   },
   "outputs": [],
   "source": [
    "#"
   ]
  }
 ],
 "metadata": {
  "colab": {
   "authorship_tag": "ABX9TyMwmmSyrQdONfyFwuAyg+UQ",
   "name": "惑星の運動.ipynb",
   "provenance": []
  },
  "kernelspec": {
   "display_name": "Python 3",
   "name": "python3"
  },
  "language_info": {
   "name": "python"
  }
 },
 "nbformat": 4,
 "nbformat_minor": 0
}
